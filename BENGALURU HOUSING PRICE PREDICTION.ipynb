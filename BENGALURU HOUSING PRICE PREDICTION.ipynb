{
 "cells": [
  {
   "cell_type": "code",
   "execution_count": 1,
   "id": "e68c8c7b",
   "metadata": {},
   "outputs": [
    {
     "name": "stdout",
     "output_type": "stream",
     "text": [
      "              area_type   availability                  location       size  \\\n",
      "0  Super built-up  Area         19-Dec  Electronic City Phase II      2 BHK   \n",
      "1            Plot  Area  Ready To Move          Chikka Tirupathi  4 Bedroom   \n",
      "2        Built-up  Area  Ready To Move               Uttarahalli      3 BHK   \n",
      "3  Super built-up  Area  Ready To Move        Lingadheeranahalli      3 BHK   \n",
      "4  Super built-up  Area  Ready To Move                  Kothanur      2 BHK   \n",
      "\n",
      "   society total_sqft  bath  balcony   price  \n",
      "0  Coomee        1056   2.0      1.0   39.07  \n",
      "1  Theanmp       2600   5.0      3.0  120.00  \n",
      "2      NaN       1440   2.0      3.0   62.00  \n",
      "3  Soiewre       1521   3.0      1.0   95.00  \n",
      "4      NaN       1200   2.0      1.0   51.00  \n",
      "(13320, 9)\n"
     ]
    }
   ],
   "source": [
    "import pandas as pd\n",
    "import numpy as np\n",
    "import matplotlib.pyplot as plt \n",
    "import seaborn as sns\n",
    "df = pd.read_csv('Bengaluru_House_Data.csv')\n",
    "print(df.head())\n",
    "print(df.shape)\n",
    "\n"
   ]
  },
  {
   "cell_type": "code",
   "execution_count": 2,
   "id": "e42cd642",
   "metadata": {},
   "outputs": [
    {
     "name": "stdout",
     "output_type": "stream",
     "text": [
      "<bound method DataFrame.info of                   area_type   availability                  location  \\\n",
      "0      Super built-up  Area         19-Dec  Electronic City Phase II   \n",
      "1                Plot  Area  Ready To Move          Chikka Tirupathi   \n",
      "2            Built-up  Area  Ready To Move               Uttarahalli   \n",
      "3      Super built-up  Area  Ready To Move        Lingadheeranahalli   \n",
      "4      Super built-up  Area  Ready To Move                  Kothanur   \n",
      "...                     ...            ...                       ...   \n",
      "13315        Built-up  Area  Ready To Move                Whitefield   \n",
      "13316  Super built-up  Area  Ready To Move             Richards Town   \n",
      "13317        Built-up  Area  Ready To Move     Raja Rajeshwari Nagar   \n",
      "13318  Super built-up  Area         18-Jun           Padmanabhanagar   \n",
      "13319  Super built-up  Area  Ready To Move              Doddathoguru   \n",
      "\n",
      "            size  society total_sqft  bath  balcony   price  \n",
      "0          2 BHK  Coomee        1056   2.0      1.0   39.07  \n",
      "1      4 Bedroom  Theanmp       2600   5.0      3.0  120.00  \n",
      "2          3 BHK      NaN       1440   2.0      3.0   62.00  \n",
      "3          3 BHK  Soiewre       1521   3.0      1.0   95.00  \n",
      "4          2 BHK      NaN       1200   2.0      1.0   51.00  \n",
      "...          ...      ...        ...   ...      ...     ...  \n",
      "13315  5 Bedroom  ArsiaEx       3453   4.0      0.0  231.00  \n",
      "13316      4 BHK      NaN       3600   5.0      NaN  400.00  \n",
      "13317      2 BHK  Mahla T       1141   2.0      1.0   60.00  \n",
      "13318      4 BHK  SollyCl       4689   4.0      1.0  488.00  \n",
      "13319      1 BHK      NaN        550   1.0      1.0   17.00  \n",
      "\n",
      "[13320 rows x 9 columns]>\n"
     ]
    }
   ],
   "source": [
    "print(df.info)"
   ]
  },
  {
   "cell_type": "code",
   "execution_count": 3,
   "id": "dfb88fa5",
   "metadata": {},
   "outputs": [
    {
     "name": "stdout",
     "output_type": "stream",
     "text": [
      "Index(['area_type', 'availability', 'location', 'size', 'society',\n",
      "       'total_sqft', 'bath', 'balcony', 'price'],\n",
      "      dtype='object')\n"
     ]
    }
   ],
   "source": [
    "print(df.columns)"
   ]
  },
  {
   "cell_type": "code",
   "execution_count": 4,
   "id": "625296e9",
   "metadata": {},
   "outputs": [
    {
     "name": "stdout",
     "output_type": "stream",
     "text": [
      "area_type        object\n",
      "availability     object\n",
      "location         object\n",
      "size             object\n",
      "society          object\n",
      "total_sqft       object\n",
      "bath            float64\n",
      "balcony         float64\n",
      "price           float64\n",
      "dtype: object\n"
     ]
    }
   ],
   "source": [
    "print(df.dtypes)"
   ]
  },
  {
   "cell_type": "code",
   "execution_count": 5,
   "id": "c618d6db",
   "metadata": {},
   "outputs": [
    {
     "data": {
      "text/html": [
       "<div>\n",
       "<style scoped>\n",
       "    .dataframe tbody tr th:only-of-type {\n",
       "        vertical-align: middle;\n",
       "    }\n",
       "\n",
       "    .dataframe tbody tr th {\n",
       "        vertical-align: top;\n",
       "    }\n",
       "\n",
       "    .dataframe thead th {\n",
       "        text-align: right;\n",
       "    }\n",
       "</style>\n",
       "<table border=\"1\" class=\"dataframe\">\n",
       "  <thead>\n",
       "    <tr style=\"text-align: right;\">\n",
       "      <th></th>\n",
       "      <th>bath</th>\n",
       "      <th>balcony</th>\n",
       "      <th>price</th>\n",
       "    </tr>\n",
       "  </thead>\n",
       "  <tbody>\n",
       "    <tr>\n",
       "      <th>count</th>\n",
       "      <td>13247.000000</td>\n",
       "      <td>12711.000000</td>\n",
       "      <td>13320.000000</td>\n",
       "    </tr>\n",
       "    <tr>\n",
       "      <th>mean</th>\n",
       "      <td>2.692610</td>\n",
       "      <td>1.584376</td>\n",
       "      <td>112.565627</td>\n",
       "    </tr>\n",
       "    <tr>\n",
       "      <th>std</th>\n",
       "      <td>1.341458</td>\n",
       "      <td>0.817263</td>\n",
       "      <td>148.971674</td>\n",
       "    </tr>\n",
       "    <tr>\n",
       "      <th>min</th>\n",
       "      <td>1.000000</td>\n",
       "      <td>0.000000</td>\n",
       "      <td>8.000000</td>\n",
       "    </tr>\n",
       "    <tr>\n",
       "      <th>25%</th>\n",
       "      <td>2.000000</td>\n",
       "      <td>1.000000</td>\n",
       "      <td>50.000000</td>\n",
       "    </tr>\n",
       "    <tr>\n",
       "      <th>50%</th>\n",
       "      <td>2.000000</td>\n",
       "      <td>2.000000</td>\n",
       "      <td>72.000000</td>\n",
       "    </tr>\n",
       "    <tr>\n",
       "      <th>75%</th>\n",
       "      <td>3.000000</td>\n",
       "      <td>2.000000</td>\n",
       "      <td>120.000000</td>\n",
       "    </tr>\n",
       "    <tr>\n",
       "      <th>max</th>\n",
       "      <td>40.000000</td>\n",
       "      <td>3.000000</td>\n",
       "      <td>3600.000000</td>\n",
       "    </tr>\n",
       "  </tbody>\n",
       "</table>\n",
       "</div>"
      ],
      "text/plain": [
       "               bath       balcony         price\n",
       "count  13247.000000  12711.000000  13320.000000\n",
       "mean       2.692610      1.584376    112.565627\n",
       "std        1.341458      0.817263    148.971674\n",
       "min        1.000000      0.000000      8.000000\n",
       "25%        2.000000      1.000000     50.000000\n",
       "50%        2.000000      2.000000     72.000000\n",
       "75%        3.000000      2.000000    120.000000\n",
       "max       40.000000      3.000000   3600.000000"
      ]
     },
     "execution_count": 5,
     "metadata": {},
     "output_type": "execute_result"
    }
   ],
   "source": [
    "df.describe()\n"
   ]
  },
  {
   "cell_type": "code",
   "execution_count": 6,
   "id": "42bdc08e",
   "metadata": {},
   "outputs": [
    {
     "name": "stdout",
     "output_type": "stream",
     "text": [
      "<class 'pandas.core.frame.DataFrame'>\n",
      "RangeIndex: 13320 entries, 0 to 13319\n",
      "Data columns (total 9 columns):\n",
      " #   Column        Non-Null Count  Dtype  \n",
      "---  ------        --------------  -----  \n",
      " 0   area_type     13320 non-null  object \n",
      " 1   availability  13320 non-null  object \n",
      " 2   location      13319 non-null  object \n",
      " 3   size          13304 non-null  object \n",
      " 4   society       7818 non-null   object \n",
      " 5   total_sqft    13320 non-null  object \n",
      " 6   bath          13247 non-null  float64\n",
      " 7   balcony       12711 non-null  float64\n",
      " 8   price         13320 non-null  float64\n",
      "dtypes: float64(3), object(6)\n",
      "memory usage: 936.7+ KB\n"
     ]
    }
   ],
   "source": [
    "df.info()\n"
   ]
  },
  {
   "cell_type": "code",
   "execution_count": 7,
   "id": "4ee9eeec",
   "metadata": {},
   "outputs": [
    {
     "data": {
      "text/plain": [
       "area_type\n",
       "Super built-up  Area    8790\n",
       "Built-up  Area          2418\n",
       "Plot  Area              2025\n",
       "Carpet  Area              87\n",
       "Name: count, dtype: int64"
      ]
     },
     "execution_count": 7,
     "metadata": {},
     "output_type": "execute_result"
    }
   ],
   "source": [
    "df['area_type'].value_counts()"
   ]
  },
  {
   "cell_type": "code",
   "execution_count": 8,
   "id": "e77fa0f5",
   "metadata": {},
   "outputs": [
    {
     "data": {
      "text/plain": [
       "society\n",
       "GrrvaGr    80\n",
       "PrarePa    76\n",
       "Sryalan    59\n",
       "Prtates    59\n",
       "GMown E    56\n",
       "           ..\n",
       "Amionce     1\n",
       "JaghtDe     1\n",
       "Jauraht     1\n",
       "Brity U     1\n",
       "RSntsAp     1\n",
       "Name: count, Length: 2688, dtype: int64"
      ]
     },
     "execution_count": 8,
     "metadata": {},
     "output_type": "execute_result"
    }
   ],
   "source": [
    "df['society'].value_counts()"
   ]
  },
  {
   "cell_type": "code",
   "execution_count": 9,
   "id": "9ef428ca",
   "metadata": {},
   "outputs": [
    {
     "name": "stdout",
     "output_type": "stream",
     "text": [
      "Value counts for column 'area_type':\n",
      "area_type\n",
      "Super built-up  Area    8790\n",
      "Built-up  Area          2418\n",
      "Plot  Area              2025\n",
      "Carpet  Area              87\n",
      "Name: count, dtype: int64\n",
      "---------------------------------------\n",
      "Value counts for column 'availability':\n",
      "availability\n",
      "Ready To Move    10581\n",
      "18-Dec             307\n",
      "18-May             295\n",
      "18-Apr             271\n",
      "18-Aug             200\n",
      "                 ...  \n",
      "15-Aug               1\n",
      "17-Jan               1\n",
      "16-Nov               1\n",
      "16-Jan               1\n",
      "14-Jul               1\n",
      "Name: count, Length: 81, dtype: int64\n",
      "---------------------------------------\n",
      "Value counts for column 'location':\n",
      "location\n",
      "Whitefield                        540\n",
      "Sarjapur  Road                    399\n",
      "Electronic City                   302\n",
      "Kanakpura Road                    273\n",
      "Thanisandra                       234\n",
      "                                 ... \n",
      "Bapuji Layout                       1\n",
      "1st Stage Radha Krishna Layout      1\n",
      "BEML Layout 5th stage               1\n",
      "singapura paradise                  1\n",
      "Abshot Layout                       1\n",
      "Name: count, Length: 1305, dtype: int64\n",
      "---------------------------------------\n",
      "Value counts for column 'size':\n",
      "size\n",
      "2 BHK         5199\n",
      "3 BHK         4310\n",
      "4 Bedroom      826\n",
      "4 BHK          591\n",
      "3 Bedroom      547\n",
      "1 BHK          538\n",
      "2 Bedroom      329\n",
      "5 Bedroom      297\n",
      "6 Bedroom      191\n",
      "1 Bedroom      105\n",
      "8 Bedroom       84\n",
      "7 Bedroom       83\n",
      "5 BHK           59\n",
      "9 Bedroom       46\n",
      "6 BHK           30\n",
      "7 BHK           17\n",
      "1 RK            13\n",
      "10 Bedroom      12\n",
      "9 BHK            8\n",
      "8 BHK            5\n",
      "11 BHK           2\n",
      "11 Bedroom       2\n",
      "10 BHK           2\n",
      "14 BHK           1\n",
      "13 BHK           1\n",
      "12 Bedroom       1\n",
      "27 BHK           1\n",
      "43 Bedroom       1\n",
      "16 BHK           1\n",
      "19 BHK           1\n",
      "18 Bedroom       1\n",
      "Name: count, dtype: int64\n",
      "---------------------------------------\n",
      "Value counts for column 'society':\n",
      "society\n",
      "GrrvaGr    80\n",
      "PrarePa    76\n",
      "Sryalan    59\n",
      "Prtates    59\n",
      "GMown E    56\n",
      "           ..\n",
      "Amionce     1\n",
      "JaghtDe     1\n",
      "Jauraht     1\n",
      "Brity U     1\n",
      "RSntsAp     1\n",
      "Name: count, Length: 2688, dtype: int64\n",
      "---------------------------------------\n",
      "Value counts for column 'total_sqft':\n",
      "total_sqft\n",
      "1200    843\n",
      "1100    221\n",
      "1500    205\n",
      "2400    196\n",
      "600     180\n",
      "       ... \n",
      "3580      1\n",
      "2461      1\n",
      "1437      1\n",
      "2155      1\n",
      "4689      1\n",
      "Name: count, Length: 2117, dtype: int64\n",
      "---------------------------------------\n",
      "Value counts for column 'bath':\n",
      "bath\n",
      "2.0     6908\n",
      "3.0     3286\n",
      "4.0     1226\n",
      "1.0      788\n",
      "5.0      524\n",
      "6.0      273\n",
      "7.0      102\n",
      "8.0       64\n",
      "9.0       43\n",
      "10.0      13\n",
      "12.0       7\n",
      "13.0       3\n",
      "11.0       3\n",
      "16.0       2\n",
      "27.0       1\n",
      "40.0       1\n",
      "15.0       1\n",
      "14.0       1\n",
      "18.0       1\n",
      "Name: count, dtype: int64\n",
      "---------------------------------------\n",
      "Value counts for column 'balcony':\n",
      "balcony\n",
      "2.0    5113\n",
      "1.0    4897\n",
      "3.0    1672\n",
      "0.0    1029\n",
      "Name: count, dtype: int64\n",
      "---------------------------------------\n",
      "Value counts for column 'price':\n",
      "price\n",
      "75.00     310\n",
      "65.00     302\n",
      "55.00     275\n",
      "60.00     270\n",
      "45.00     240\n",
      "         ... \n",
      "351.00      1\n",
      "54.10       1\n",
      "80.64       1\n",
      "32.73       1\n",
      "488.00      1\n",
      "Name: count, Length: 1994, dtype: int64\n",
      "---------------------------------------\n"
     ]
    }
   ],
   "source": [
    "for column in df.columns:\n",
    "    print(f\"Value counts for column '{column}':\")\n",
    "    print(df[column].value_counts())\n",
    "    print('---------------------------------------')"
   ]
  },
  {
   "cell_type": "markdown",
   "id": "42d1e121",
   "metadata": {},
   "source": [
    "# DATA CLEANING\n",
    "\n"
   ]
  },
  {
   "cell_type": "code",
   "execution_count": 10,
   "id": "a15b9250",
   "metadata": {},
   "outputs": [
    {
     "name": "stdout",
     "output_type": "stream",
     "text": [
      "\n",
      "Unique values in 'area_type':\n",
      "area_type\n",
      "Super built-up  Area    8790\n",
      "Built-up  Area          2418\n",
      "Plot  Area              2025\n",
      "Carpet  Area              87\n",
      "Name: count, dtype: int64\n"
     ]
    }
   ],
   "source": [
    "#Area Type\n",
    "print(\"\\nUnique values in 'area_type':\")\n",
    "print(df['area_type'].value_counts())\n"
   ]
  },
  {
   "cell_type": "code",
   "execution_count": 11,
   "id": "a82c3def",
   "metadata": {},
   "outputs": [
    {
     "name": "stdout",
     "output_type": "stream",
     "text": [
      "availability\n",
      "Ready To Move         10581\n",
      "Under Construction     2739\n",
      "Name: count, dtype: int64\n"
     ]
    }
   ],
   "source": [
    "#availability\n",
    "df['availability'] = df['availability'].apply(\n",
    "    lambda x: 'Ready To Move' if x == 'Ready To Move' else 'Under Construction'\n",
    ")\n",
    "\n",
    "df.dropna(subset=['availability'], inplace=True)\n",
    "\n",
    "print(df['availability'].value_counts())\n"
   ]
  },
  {
   "cell_type": "code",
   "execution_count": 12,
   "id": "03f13852",
   "metadata": {},
   "outputs": [
    {
     "name": "stdout",
     "output_type": "stream",
     "text": [
      "\n",
      "Missing values in 'size' before cleaning: 16\n",
      "Shape after dropping rows with missing 'size': (13304, 9)\n",
      "\n",
      "Value counts for 'bhk' after extraction:\n",
      "bhk\n",
      "1      656\n",
      "2     5528\n",
      "3     4857\n",
      "4     1417\n",
      "5      356\n",
      "6      221\n",
      "7      100\n",
      "8       89\n",
      "9       54\n",
      "10      14\n",
      "11       4\n",
      "12       1\n",
      "13       1\n",
      "14       1\n",
      "16       1\n",
      "18       1\n",
      "19       1\n",
      "27       1\n",
      "43       1\n",
      "Name: count, dtype: int64\n"
     ]
    }
   ],
   "source": [
    "#size \n",
    "print(f\"\\nMissing values in 'size' before cleaning: {df['size'].isnull().sum()}\")\n",
    "df.dropna(subset=['size'], inplace=True)\n",
    "print(f\"Shape after dropping rows with missing 'size': {df.shape}\")\n",
    "df['bhk'] = df['size'].apply(lambda x: int(x.split(' ')[0]))\n",
    "print(\"\\nValue counts for 'bhk' after extraction:\")\n",
    "print(df['bhk'].value_counts().sort_index())\n",
    "\n"
   ]
  },
  {
   "cell_type": "code",
   "execution_count": 13,
   "id": "ec03a206",
   "metadata": {},
   "outputs": [
    {
     "name": "stdout",
     "output_type": "stream",
     "text": [
      "\n",
      "Missing values in 'total_sqft' after conversion: 46\n",
      "Shape after dropping rows with missing 'total_sqft': (13258, 10)\n"
     ]
    }
   ],
   "source": [
    "#total_sqft \n",
    "\n",
    "def convert_sqft_to_num(x):\n",
    "    try:\n",
    "        tokens = x.split('-')\n",
    "        if len(tokens) == 2:\n",
    "            # If it's a range, take the average\n",
    "            return (float(tokens[0]) + float(tokens[1])) / 2\n",
    "        # If it's a single number, convert directly\n",
    "        return float(x)\n",
    "    except ValueError:\n",
    "        return np.nan\n",
    "\n",
    "df['total_sqft'] = df['total_sqft'].apply(convert_sqft_to_num)\n",
    "print(f\"\\nMissing values in 'total_sqft' after conversion: {df['total_sqft'].isnull().sum()}\")\n",
    "df.dropna(subset=['total_sqft'], inplace=True)\n",
    "print(f\"Shape after dropping rows with missing 'total_sqft': {df.shape}\")\n"
   ]
  },
  {
   "cell_type": "code",
   "execution_count": 14,
   "id": "14a6765b",
   "metadata": {},
   "outputs": [
    {
     "name": "stdout",
     "output_type": "stream",
     "text": [
      "\n",
      "Missing values in 'bath' before imputation: 57\n",
      "Missing values in 'bath' after imputation: 0\n",
      "\n",
      "Missing values in 'balcony' before imputation: 589\n",
      "Missing values in 'balcony' after imputation: 0\n"
     ]
    }
   ],
   "source": [
    "# bath and balcony\n",
    "\n",
    "print(f\"\\nMissing values in 'bath' before imputation: {df['bath'].isnull().sum()}\")\n",
    "df['bath'].fillna(df['bath'].median(), inplace=True)\n",
    "print(f\"Missing values in 'bath' after imputation: {df['bath'].isnull().sum()}\")\n",
    "\n",
    "print(f\"\\nMissing values in 'balcony' before imputation: {df['balcony'].isnull().sum()}\")\n",
    "df['balcony'].fillna(df['balcony'].median(), inplace=True)\n",
    "print(f\"Missing values in 'balcony' after imputation: {df['balcony'].isnull().sum()}\")"
   ]
  },
  {
   "cell_type": "code",
   "execution_count": 15,
   "id": "b277b916",
   "metadata": {},
   "outputs": [
    {
     "name": "stdout",
     "output_type": "stream",
     "text": [
      "\n",
      "Missing values in 'society' before dropping: 5469\n",
      "Dropped 'society' column.\n"
     ]
    }
   ],
   "source": [
    "#society\n",
    "print(f\"\\nMissing values in 'society' before dropping: {df['society'].isnull().sum()}\")\n",
    "df.drop('society', axis='columns', inplace=True)\n",
    "print(\"Dropped 'society' column.\")"
   ]
  },
  {
   "cell_type": "code",
   "execution_count": 16,
   "id": "d20856c4",
   "metadata": {},
   "outputs": [
    {
     "name": "stdout",
     "output_type": "stream",
     "text": [
      "\n",
      "Created 'price_per_sqft' column.\n",
      "              area_type        availability                  location  \\\n",
      "0  Super built-up  Area  Under Construction  Electronic City Phase II   \n",
      "1            Plot  Area       Ready To Move          Chikka Tirupathi   \n",
      "2        Built-up  Area       Ready To Move               Uttarahalli   \n",
      "3  Super built-up  Area       Ready To Move        Lingadheeranahalli   \n",
      "4  Super built-up  Area       Ready To Move                  Kothanur   \n",
      "\n",
      "        size  total_sqft  bath  balcony   price  bhk  price_per_sqft  \n",
      "0      2 BHK      1056.0   2.0      1.0   39.07    2     3699.810606  \n",
      "1  4 Bedroom      2600.0   5.0      3.0  120.00    4     4615.384615  \n",
      "2      3 BHK      1440.0   2.0      3.0   62.00    3     4305.555556  \n",
      "3      3 BHK      1521.0   3.0      1.0   95.00    3     6245.890861  \n",
      "4      2 BHK      1200.0   2.0      1.0   51.00    2     4250.000000  \n"
     ]
    }
   ],
   "source": [
    "# Feature Engineering: Create price_per_sqft\n",
    "df['price_per_sqft'] = (df['price'] * 100000) / df['total_sqft']\n",
    "print(\"\\nCreated 'price_per_sqft' column.\")\n",
    "print(df.head())"
   ]
  },
  {
   "cell_type": "code",
   "execution_count": 17,
   "id": "162c1303",
   "metadata": {},
   "outputs": [
    {
     "name": "stdout",
     "output_type": "stream",
     "text": [
      "\n",
      "Shape after removing 'price_per_sqft' outliers: (10111, 10)\n"
     ]
    }
   ],
   "source": [
    "#Outlier Removal for 'price_per_sqft' ---\n",
    "# We'll remove properties where price_per_sqft is outside one standard deviation\n",
    "# from the mean for each location. This helps in removing extreme values that\n",
    "# might skew the model.\n",
    "def remove_pps_outliers(df):\n",
    "    df_out = pd.DataFrame()\n",
    "    for key, subdf in df.groupby('location'):\n",
    "        m = np.mean(subdf['price_per_sqft'])\n",
    "        st = np.std(subdf['price_per_sqft'])\n",
    "        # Filter out properties where price_per_sqft is outside (mean - 1*std, mean + 1*std)\n",
    "        reduced_df = subdf[(subdf['price_per_sqft'] > (m - st)) & (subdf['price_per_sqft'] <= (m + st))]\n",
    "        df_out = pd.concat([df_out, reduced_df], ignore_index=True)\n",
    "    return df_out\n",
    "df_cleaned = remove_pps_outliers(df)\n",
    "print(f\"\\nShape after removing 'price_per_sqft' outliers: {df_cleaned.shape}\")"
   ]
  },
  {
   "cell_type": "code",
   "execution_count": 18,
   "id": "deb7ae27",
   "metadata": {},
   "outputs": [
    {
     "name": "stdout",
     "output_type": "stream",
     "text": [
      "Shape after removing BHK/sqft outliers: (9851, 10)\n"
     ]
    }
   ],
   "source": [
    "# --- 10. Outlier Removal for BHK vs. total_sqft ---\n",
    "# Remove properties where total_sqft per BHK is less than 300 sqft.\n",
    "# This handles cases like a 4BHK in a very small area, which is likely an error.\n",
    "df_cleaned = df_cleaned[~(df_cleaned['total_sqft'] / df_cleaned['bhk'] < 300)]\n",
    "print(f\"Shape after removing BHK/sqft outliers: {df_cleaned.shape}\")\n"
   ]
  },
  {
   "cell_type": "code",
   "execution_count": 19,
   "id": "1175043c",
   "metadata": {},
   "outputs": [
    {
     "name": "stdout",
     "output_type": "stream",
     "text": [
      "Shape after removing bath/bhk outliers: (9753, 10)\n"
     ]
    }
   ],
   "source": [
    "# --- 11. Outlier Removal for 'bath' vs. 'bhk' ---\n",
    "# Remove properties where number of bathrooms is significantly higher than BHK.\n",
    "# A common heuristic is to remove properties where bath > bhk + 2.\n",
    "df_cleaned = df_cleaned[df_cleaned['bath'] < df_cleaned['bhk'] + 2]\n",
    "print(f\"Shape after removing bath/bhk outliers: {df_cleaned.shape}\")"
   ]
  },
  {
   "cell_type": "code",
   "execution_count": 20,
   "id": "37f9b6c8",
   "metadata": {},
   "outputs": [
    {
     "name": "stdout",
     "output_type": "stream",
     "text": [
      "\n",
      "Number of unique locations before reduction: 783\n"
     ]
    }
   ],
   "source": [
    "# --- 12. Handle 'location' column (Dimensionality Reduction) ---\n",
    "# Check unique locations before reduction\n",
    "print(f\"\\nNumber of unique locations before reduction: {len(df_cleaned['location'].unique())}\")\n"
   ]
  },
  {
   "cell_type": "code",
   "execution_count": 21,
   "id": "d760c32c",
   "metadata": {},
   "outputs": [
    {
     "name": "stdout",
     "output_type": "stream",
     "text": [
      "Number of unique locations after reduction: 184\n"
     ]
    }
   ],
   "source": [
    "# Identify locations with less than a certain number of data points (e.g., 10 properties)\n",
    "# These rare locations can be grouped into an 'Other' category to reduce cardinality\n",
    "location_stats = df_cleaned['location'].value_counts(ascending=False)\n",
    "location_less_than_10 = location_stats[location_stats <= 10]\n",
    "# Group these rare locations into an 'Other' category\n",
    "df_cleaned['location'] = df_cleaned['location'].apply(lambda x: 'Other' if x in location_less_than_10 else x)\n",
    "print(f\"Number of unique locations after reduction: {len(df_cleaned['location'].unique())}\")"
   ]
  },
  {
   "cell_type": "code",
   "execution_count": 22,
   "id": "22f01a17",
   "metadata": {},
   "outputs": [
    {
     "name": "stdout",
     "output_type": "stream",
     "text": [
      "\n",
      "Dropped original 'size' and 'price_per_sqft' columns.\n"
     ]
    }
   ],
   "source": [
    "# --- 13. Drop original 'size' and 'price_per_sqft' columns ---\n",
    "# The 'size' column has been replaced by 'bhk' and is no longer needed.\n",
    "# 'price_per_sqft' was primarily used for outlier detection and might not be\n",
    "# directly used as a feature if 'price' is the target. We drop it to avoid\n",
    "# data leakage if 'price' is the target.\n",
    "df_final = df_cleaned.drop(['size', 'price_per_sqft'], axis='columns')\n",
    "print(\"\\nDropped original 'size' and 'price_per_sqft' columns.\")"
   ]
  },
  {
   "cell_type": "code",
   "execution_count": 23,
   "id": "b72ec53a",
   "metadata": {},
   "outputs": [
    {
     "name": "stdout",
     "output_type": "stream",
     "text": [
      "\n",
      "Final cleaned DataFrame head:\n",
      "              area_type        availability              location  total_sqft  \\\n",
      "0  Super built-up  Area       Ready To Move                 Other      1672.0   \n",
      "1        Built-up  Area       Ready To Move                 Other      1750.0   \n",
      "2  Super built-up  Area       Ready To Move                 Other      1750.0   \n",
      "3  Super built-up  Area  Under Construction   Devarachikkanahalli      1250.0   \n",
      "4  Super built-up  Area       Ready To Move   Devarachikkanahalli      1250.0   \n",
      "\n",
      "   bath  balcony  price  bhk  \n",
      "0   3.0      2.0  150.0    3  \n",
      "1   3.0      3.0  149.0    3  \n",
      "2   3.0      2.0  150.0    3  \n",
      "3   2.0      3.0   44.0    3  \n",
      "4   2.0      2.0   40.0    2  \n",
      "\n",
      "Final DataFrame Info:\n",
      "<class 'pandas.core.frame.DataFrame'>\n",
      "Index: 9753 entries, 0 to 10110\n",
      "Data columns (total 8 columns):\n",
      " #   Column        Non-Null Count  Dtype  \n",
      "---  ------        --------------  -----  \n",
      " 0   area_type     9753 non-null   object \n",
      " 1   availability  9753 non-null   object \n",
      " 2   location      9753 non-null   object \n",
      " 3   total_sqft    9753 non-null   float64\n",
      " 4   bath          9753 non-null   float64\n",
      " 5   balcony       9753 non-null   float64\n",
      " 6   price         9753 non-null   float64\n",
      " 7   bhk           9753 non-null   int64  \n",
      "dtypes: float64(4), int64(1), object(3)\n",
      "memory usage: 685.8+ KB\n",
      "\n",
      "Missing values after all cleaning steps:\n",
      "area_type       0\n",
      "availability    0\n",
      "location        0\n",
      "total_sqft      0\n",
      "bath            0\n",
      "balcony         0\n",
      "price           0\n",
      "bhk             0\n",
      "dtype: int64\n",
      "\n",
      "Final shape of the DataFrame: (9753, 8)\n"
     ]
    }
   ],
   "source": [
    "print(\"\\nFinal cleaned DataFrame head:\")\n",
    "print(df_final.head())\n",
    "print(\"\\nFinal DataFrame Info:\")\n",
    "df_final.info()\n",
    "print(\"\\nMissing values after all cleaning steps:\")\n",
    "print(df_final.isnull().sum())\n",
    "print(\"\\nFinal shape of the DataFrame:\", df_final.shape)\n"
   ]
  },
  {
   "cell_type": "code",
   "execution_count": 24,
   "id": "23e1369b",
   "metadata": {},
   "outputs": [
    {
     "data": {
      "text/plain": [
       "array([[<Axes: title={'center': 'total_sqft'}>,\n",
       "        <Axes: title={'center': 'bath'}>],\n",
       "       [<Axes: title={'center': 'balcony'}>,\n",
       "        <Axes: title={'center': 'price'}>],\n",
       "       [<Axes: title={'center': 'bhk'}>,\n",
       "        <Axes: title={'center': 'price_per_sqft'}>]], dtype=object)"
      ]
     },
     "execution_count": 24,
     "metadata": {},
     "output_type": "execute_result"
    },
    {
     "data": {
      "image/png": "[encoded data removed]",
      "text/plain": [
       "<Figure size 2000x1500 with 6 Axes>"
      ]
     },
     "metadata": {},
     "output_type": "display_data"
    }
   ],
   "source": [
    "df.hist(bins=50, figsize=(20,15)) "
   ]
  },
  {
   "cell_type": "markdown",
   "id": "3ea5d5ce",
   "metadata": {},
   "source": [
    "## TRAIN TEST SPLITTING"
   ]
  },
  {
   "cell_type": "code",
   "execution_count": 25,
   "id": "88c018a9",
   "metadata": {},
   "outputs": [
    {
     "name": "stdout",
     "output_type": "stream",
     "text": [
      "Rows in test_set: 2652, Rows in train_set: 10606\n"
     ]
    }
   ],
   "source": [
    "from sklearn.model_selection import train_test_split\n",
    "train_set,test_set = train_test_split(df, test_size=0.2, random_state=42)\n",
    "print(f'Rows in test_set: {len(test_set)}, Rows in train_set: {len(train_set)}')"
   ]
  },
  {
   "cell_type": "code",
   "execution_count": 26,
   "id": "d33f781e",
   "metadata": {},
   "outputs": [],
   "source": [
    "from sklearn.linear_model import LinearRegression\n",
    "from sklearn.tree import DecisionTreeRegressor # New import for Decision Tree\n",
    "from sklearn.ensemble import RandomForestRegressor # New import for Random Forest\n",
    "from sklearn.metrics import r2_score, mean_squared_error"
   ]
  },
  {
   "cell_type": "code",
   "execution_count": 27,
   "id": "8ff51d5b",
   "metadata": {},
   "outputs": [
    {
     "name": "stdout",
     "output_type": "stream",
     "text": [
      "\n",
      "Shape of X (features after encoding): (9753, 191)\n",
      "Shape of y (target): (9753,)\n",
      "\n",
      "First 5 rows of X (features after encoding):\n",
      "   total_sqft  bath  balcony  bhk  area_type_Carpet  Area  \\\n",
      "0      1672.0   3.0      2.0    3                   False   \n",
      "1      1750.0   3.0      3.0    3                   False   \n",
      "2      1750.0   3.0      2.0    3                   False   \n",
      "3      1250.0   2.0      3.0    3                   False   \n",
      "4      1250.0   2.0      2.0    2                   False   \n",
      "\n",
      "   area_type_Plot  Area  area_type_Super built-up  Area  \\\n",
      "0                 False                            True   \n",
      "1                 False                           False   \n",
      "2                 False                            True   \n",
      "3                 False                            True   \n",
      "4                 False                            True   \n",
      "\n",
      "   availability_Under Construction  location_1st Phase JP Nagar  \\\n",
      "0                            False                        False   \n",
      "1                            False                        False   \n",
      "2                            False                        False   \n",
      "3                             True                        False   \n",
      "4                            False                        False   \n",
      "\n",
      "   location_5th Phase JP Nagar  ...  location_Varthur  location_Vasanthapura  \\\n",
      "0                        False  ...             False                  False   \n",
      "1                        False  ...             False                  False   \n",
      "2                        False  ...             False                  False   \n",
      "3                        False  ...             False                  False   \n",
      "4                        False  ...             False                  False   \n",
      "\n",
      "   location_Vidyaranyapura  location_Vijayanagar  location_Vittasandra  \\\n",
      "0                    False                 False                 False   \n",
      "1                    False                 False                 False   \n",
      "2                    False                 False                 False   \n",
      "3                    False                 False                 False   \n",
      "4                    False                 False                 False   \n",
      "\n",
      "   location_Whitefield  location_Yelachenahalli  location_Yelahanka  \\\n",
      "0                False                    False               False   \n",
      "1                False                    False               False   \n",
      "2                False                    False               False   \n",
      "3                False                    False               False   \n",
      "4                False                    False               False   \n",
      "\n",
      "   location_Yelahanka New Town  location_Yeshwanthpur  \n",
      "0                        False                  False  \n",
      "1                        False                  False  \n",
      "2                        False                  False  \n",
      "3                        False                  False  \n",
      "4                        False                  False  \n",
      "\n",
      "[5 rows x 191 columns]\n",
      "\n",
      "First 5 values of y (target):\n",
      "0    150.0\n",
      "1    149.0\n",
      "2    150.0\n",
      "3     44.0\n",
      "4     40.0\n",
      "Name: price, dtype: float64\n",
      "\n",
      "Training set shape: X_train=(7802, 191), y_train=(7802,)\n",
      "Testing set shape: X_test=(1951, 191), y_test=(1951,)\n",
      "\n",
      "--- Training Linear Regression Model ---\n",
      "Linear Regression training complete.\n",
      "Linear Regression - Mean Squared Error (MSE) on Test Set: 2440.9667\n",
      "Linear Regression - R-squared Score on Test Set: 0.7570\n"
     ]
    }
   ],
   "source": [
    "# --- Data Preparation for ML Models with Scikit-learn ---\n",
    "\n",
    "# One-hot encode categorical features\n",
    "# We use drop_first=True to avoid multicollinearity (dummy variable trap)\n",
    "df_encoded = pd.get_dummies(df_final, columns=['area_type', 'availability', 'location'], drop_first=True)\n",
    "\n",
    "# Define features (X) and target (y)\n",
    "# 'price' is our target variable\n",
    "X = df_encoded.drop('price', axis='columns')\n",
    "y = df_encoded['price']\n",
    "\n",
    "print(\"\\nShape of X (features after encoding):\", X.shape)\n",
    "print(\"Shape of y (target):\", y.shape)\n",
    "print(\"\\nFirst 5 rows of X (features after encoding):\")\n",
    "print(X.head())\n",
    "print(\"\\nFirst 5 values of y (target):\")\n",
    "print(y.head())\n",
    "\n",
    "# --- Split data into training and testing sets ---\n",
    "# We use a test size of 20% and a random state for reproducibility\n",
    "X_train, X_test, y_train, y_test = train_test_split(X, y, test_size=0.2, random_state=42)\n",
    "\n",
    "print(f\"\\nTraining set shape: X_train={X_train.shape}, y_train={y_train.shape}\")\n",
    "print(f\"Testing set shape: X_test={X_test.shape}, y_test={y_test.shape}\")\n",
    "\n",
    "\n",
    "# --- 1. Linear Regression Model (Baseline) ---\n",
    "print(\"\\n--- Training Linear Regression Model ---\")\n",
    "# Initialize the Linear Regression model\n",
    "lr_model = LinearRegression()\n",
    "\n",
    "# Train the model using the training data\n",
    "lr_model.fit(X_train, y_train)\n",
    "print(\"Linear Regression training complete.\")\n",
    "\n",
    "\n",
    "# Make predictions on the test set\n",
    "y_pred_lr = lr_model.predict(X_test)\n",
    "\n",
    "# Calculate Evaluation Metrics\n",
    "mse_lr = mean_squared_error(y_test, y_pred_lr)\n",
    "r_squared_lr = r2_score(y_test, y_pred_lr)\n",
    "\n",
    "print(f\"Linear Regression - Mean Squared Error (MSE) on Test Set: {mse_lr:.4f}\")\n",
    "print(f\"Linear Regression - R-squared Score on Test Set: {r_squared_lr:.4f}\")"
   ]
  },
  {
   "cell_type": "markdown",
   "id": "38ee777c",
   "metadata": {},
   "source": [
    "# MACHINE LEARNING MODELS\n"
   ]
  },
  {
   "cell_type": "code",
   "execution_count": 28,
   "id": "069b9381",
   "metadata": {},
   "outputs": [
    {
     "name": "stdout",
     "output_type": "stream",
     "text": [
      "\n",
      "--- Training Decision Tree Regressor Model ---\n",
      "Decision Tree Regressor training complete.\n",
      "Decision Tree Regressor - Mean Squared Error (MSE) on Test Set: 7221.3870\n",
      "Decision Tree Regressor - R-squared Score on Test Set: 0.2810\n"
     ]
    }
   ],
   "source": [
    "# --- 2. Decision Tree Regressor Model ---\n",
    "print(\"\\n--- Training Decision Tree Regressor Model ---\")\n",
    "\n",
    "dt_model = DecisionTreeRegressor(random_state=42)\n",
    "\n",
    "# Train the model\n",
    "dt_model.fit(X_train, y_train)\n",
    "print(\"Decision Tree Regressor training complete.\")\n",
    "\n",
    "# Make predictions on the test set\n",
    "y_pred_dt = dt_model.predict(X_test)\n",
    "\n",
    "# Calculate Evaluation Metrics\n",
    "mse_dt = mean_squared_error(y_test, y_pred_dt)\n",
    "r_squared_dt = r2_score(y_test, y_pred_dt)\n",
    "\n",
    "print(f\"Decision Tree Regressor - Mean Squared Error (MSE) on Test Set: {mse_dt:.4f}\")\n",
    "print(f\"Decision Tree Regressor - R-squared Score on Test Set: {r_squared_dt:.4f}\")"
   ]
  },
  {
   "cell_type": "code",
   "execution_count": 29,
   "id": "d89a29db",
   "metadata": {},
   "outputs": [
    {
     "name": "stdout",
     "output_type": "stream",
     "text": [
      "\n",
      "--- Training Random Forest Regressor Model ---\n",
      "Random Forest Regressor training complete.\n",
      "Random Forest Regressor - Mean Squared Error (MSE) on Test Set: 2778.1339\n",
      "Random Forest Regressor - R-squared Score on Test Set: 0.7234\n"
     ]
    }
   ],
   "source": [
    "# --- 3. Random Forest Regressor Model ---\n",
    "print(\"\\n--- Training Random Forest Regressor Model ---\")\n",
    "# Initialize the Random Forest Regressor model\n",
    "# n_estimators: number of trees in the forest. random_state for reproducibility.\n",
    "# max_depth can be set, but Random Forest is less prone to overfitting than single DT.\n",
    "rf_model = RandomForestRegressor(n_estimators=100, random_state=42, n_jobs=-1) # n_jobs=-1 uses all available cores\n",
    "\n",
    "# Train the model\n",
    "rf_model.fit(X_train, y_train)\n",
    "print(\"Random Forest Regressor training complete.\")\n",
    "\n",
    "# Make predictions on the test set\n",
    "y_pred_rf = rf_model.predict(X_test)\n",
    "\n",
    "# Calculate Evaluation Metrics\n",
    "mse_rf = mean_squared_error(y_test, y_pred_rf)\n",
    "r_squared_rf = r2_score(y_test, y_pred_rf)\n",
    "\n",
    "print(f\"Random Forest Regressor - Mean Squared Error (MSE) on Test Set: {mse_rf:.4f}\")\n",
    "print(f\"Random Forest Regressor - R-squared Score on Test Set: {r_squared_rf:.4f}\")"
   ]
  },
  {
   "cell_type": "code",
   "execution_count": null,
   "id": "7466995b",
   "metadata": {},
   "outputs": [],
   "source": []
  }
 ],
 "metadata": {
  "kernelspec": {
   "display_name": "Python 3 (ipykernel)",
   "language": "python",
   "name": "python3"
  },
  "language_info": {
   "codemirror_mode": {
    "name": "ipython",
    "version": 3
   },
   "file_extension": ".py",
   "mimetype": "text/x-python",
   "name": "python",
   "nbconvert_exporter": "python",
   "pygments_lexer": "ipython3",
   "version": "3.11.5"
  }
 },
 "nbformat": 4,
 "nbformat_minor": 5
}
